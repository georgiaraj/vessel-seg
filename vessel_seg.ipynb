{
  "nbformat": 4,
  "nbformat_minor": 0,
  "metadata": {
    "colab": {
      "provenance": [],
      "authorship_tag": "ABX9TyOLbokBNQKuCPNiZ/a5KPjg",
      "include_colab_link": true
    },
    "kernelspec": {
      "name": "python3",
      "display_name": "Python 3"
    },
    "language_info": {
      "name": "python"
    }
  },
  "cells": [
    {
      "cell_type": "markdown",
      "metadata": {
        "id": "view-in-github",
        "colab_type": "text"
      },
      "source": [
        "<a href=\"https://colab.research.google.com/github/georgiaraj/vessel-seg/blob/main/vessel_seg.ipynb\" target=\"_parent\"><img src=\"https://colab.research.google.com/assets/colab-badge.svg\" alt=\"Open In Colab\"/></a>"
      ]
    },
    {
      "cell_type": "code",
      "execution_count": 6,
      "metadata": {
        "colab": {
          "base_uri": "https://localhost:8080/"
        },
        "id": "a1Pff8xsI9OJ",
        "outputId": "da247792-fcdd-4ad2-b351-86e2b59806dc"
      },
      "outputs": [
        {
          "output_type": "execute_result",
          "data": {
            "text/plain": [
              "32768"
            ]
          },
          "metadata": {},
          "execution_count": 6
        }
      ],
      "source": [
        "import sys\n",
        "import os\n",
        "\n",
        "os.system(\"git clone git@github.com:georgiaraj/vessel-seg.git\")"
      ]
    },
    {
      "cell_type": "code",
      "source": [],
      "metadata": {
        "id": "MR9QpoqTJd8w"
      },
      "execution_count": null,
      "outputs": []
    }
  ]
}